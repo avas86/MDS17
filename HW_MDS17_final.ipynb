{
 "cells": [
  {
   "cell_type": "markdown",
   "metadata": {},
   "source": [
    "# Итоговая работа."
   ]
  },
  {
   "cell_type": "code",
   "execution_count": 1,
   "metadata": {},
   "outputs": [],
   "source": [
    "import matplotlib.pyplot as plt\n",
    "import numpy as np\n",
    "import math\n",
    "from sklearn.decomposition import TruncatedSVD\n",
    "\n",
    "from scipy.optimize import minimize\n",
    "%matplotlib inline"
   ]
  },
  {
   "cell_type": "markdown",
   "metadata": {},
   "source": [
    "## Задание 1\n",
    "Дана матрица рейтингов фильмов (строки - пользователи (10 человек), столбцы - фильмы (15 фильмов))"
   ]
  },
  {
   "cell_type": "code",
   "execution_count": 2,
   "metadata": {},
   "outputs": [],
   "source": [
    "raitings = np.array([[ 4,  4,  9,  4,  1,  6, 10,  7,  9,  6,  9,  2,  8,  6,  6],\n",
    "                     [ 9,  2,  5, 10,  7,  8, 10,  5,  6,  2,  1,  6,  8,  9,  7],\n",
    "                     [ 1,  6,  8,  8,  4,  9,  3,  8, 10,  5,  2,  6,  8,  1,  6],\n",
    "                     [ 6,  1,  9,  7,  7,  9,  2,  3,  5,  1,  6,  6,  3,  2,  7],\n",
    "                     [ 3,  7,  3,  5,  7,  9,  9,  6,  2,  9,  1,  2,  8, 10,  6],\n",
    "                     [ 8,  3,  7,  3,  8,  6,  1,  8,  8,  6,  1,  9,  4, 10,  1],\n",
    "                     [ 9,  8,  4,  8,  8, 10,  6,  1,  1,  2,  9,  5,  2,  7,  2],\n",
    "                     [ 4,  1,  6,  4,  3, 10,  4,  4,  2,  8,  7,  9,  3,  8,  3],\n",
    "                     [ 2,  7,  7,  6, 10,  6,  8,  9,  8,  6, 10,  1,  7, 10,  4],\n",
    "                     [ 5, 10,  8,  8,  9,  7,  2,  9,  9, 10,  8,  8,  8,  6, 10]])"
   ]
  },
  {
   "cell_type": "markdown",
   "metadata": {},
   "source": [
    "a) Необходимо найти наиболее похожего пользователя по косинусной метрике для каждого из (ответ: 10 пар вида (x, y), где y - наиболее похожий пользователь на пользователя x)."
   ]
  },
  {
   "cell_type": "code",
   "execution_count": 3,
   "metadata": {},
   "outputs": [
    {
     "name": "stdout",
     "output_type": "stream",
     "text": [
      "0 8 0.9106598233573044\n",
      "1 4 0.8713805223930228\n",
      "2 9 0.9187305147356807\n",
      "3 9 0.8588686958710952\n",
      "4 8 0.8794847716076252\n",
      "5 9 0.8551490764118892\n",
      "6 3 0.832742107055763\n",
      "7 5 0.8445168512565341\n",
      "8 0 0.9106598233573044\n",
      "9 2 0.9187305147356807\n"
     ]
    }
   ],
   "source": [
    "for i in range(len(raitings)):\n",
    "    chk_cos = 0\n",
    "    x = raitings[i]\n",
    "    for j in range(len(raitings)):\n",
    "        if j != i:\n",
    "            y = raitings[j]\n",
    "            cos = np.dot(x, y) / (np.linalg.norm(x) * np.linalg.norm(y))\n",
    "            if cos > chk_cos:\n",
    "                chk_cos = cos\n",
    "                pair = j\n",
    "    print(i, pair, chk_cos)"
   ]
  },
  {
   "cell_type": "markdown",
   "metadata": {},
   "source": [
    "b) Предположим, вы захотели сжать признаковые описания пользователя с 15 фильмов, до, скажем, 5-ти признаков, как вы это сделаете?"
   ]
  },
  {
   "cell_type": "code",
   "execution_count": 4,
   "metadata": {},
   "outputs": [
    {
     "name": "stdout",
     "output_type": "stream",
     "text": [
      "[[23.41982063 -5.36092136  3.83196779 -4.06950174  1.10267269]\n",
      " [24.76774917  4.52188701  1.35815965  1.58128545  8.59912002]\n",
      " [22.27728589 -6.96492049 -4.84461485 -0.47661647  3.37152266]\n",
      " [19.4257757   2.64575227 -6.86014009 -4.76604765  1.96075707]\n",
      " [22.8146354   0.51464093  7.70180188  4.42379773  1.29124163]\n",
      " [21.76961656  1.94294987 -4.56934779  8.32306487 -2.21887359]\n",
      " [21.23427453  9.78047778  1.16340271 -4.86074521 -2.60815471]\n",
      " [19.97476815  4.00048677 -1.67456316  1.1512346  -3.5637169 ]\n",
      " [26.39306998 -3.03090482  5.86422753 -1.67503491 -3.71500141]\n",
      " [29.94016844 -4.82012297 -3.48912415  0.05527083 -3.62526487]]\n"
     ]
    }
   ],
   "source": [
    "svd = TruncatedSVD(n_components=5)\n",
    "svd = svd.fit(raitings)\n",
    "svd = svd.transform(raitings)\n",
    "print(svd)"
   ]
  },
  {
   "cell_type": "markdown",
   "metadata": {},
   "source": [
    "## Задание 2\n",
    "Вычислите производную $tg^2(sin(x) + cos(2x+3))$ в точке $x_0=1$ (на python и на бумаге)."
   ]
  },
  {
   "cell_type": "code",
   "execution_count": 5,
   "metadata": {},
   "outputs": [],
   "source": [
    "from scipy.misc import derivative"
   ]
  },
  {
   "cell_type": "code",
   "execution_count": 6,
   "metadata": {},
   "outputs": [
    {
     "name": "stdout",
     "output_type": "stream",
     "text": [
      "55.3859176464222\n"
     ]
    }
   ],
   "source": [
    "def f(x):\n",
    "    return np.tan(np.sin(x) + np.cos(2*x+3))**2\n",
    "\n",
    "print(derivative(f, 1.0, dx=1e-6, n=1))"
   ]
  },
  {
   "cell_type": "markdown",
   "metadata": {},
   "source": [
    "$2tg(sin(x)+cos(2x+3))*(1 + tg^2(sin(x)+cos(2x+3)))*(cos(x)-2*sin(2x+3))$"
   ]
  },
  {
   "cell_type": "code",
   "execution_count": 7,
   "metadata": {},
   "outputs": [
    {
     "name": "stdout",
     "output_type": "stream",
     "text": [
      "55.385917635337854\n"
     ]
    }
   ],
   "source": [
    "paper = 2*(math.sin(math.sin(1)+math.cos(2*1+3))/(math.cos(math.sin(1)+math.cos(2*1+3)))**3)*(math.cos(1)-2*math.sin(2*1+3))\n",
    "print(paper)"
   ]
  },
  {
   "cell_type": "markdown",
   "metadata": {},
   "source": [
    "## Задание 3\n",
    "Дана функция с неизвестными параметрами a и b, вам также известны значения функции fx в точках x. Найдите оптимальные параметры a, b, минимизирующие абсолютную ошибку **error**."
   ]
  },
  {
   "cell_type": "code",
   "execution_count": 8,
   "metadata": {},
   "outputs": [],
   "source": [
    "def f(x, a, b):\n",
    "    return np.e**a * np.sin(b*x) + x"
   ]
  },
  {
   "cell_type": "code",
   "execution_count": 9,
   "metadata": {},
   "outputs": [],
   "source": [
    "x = np.array([0.        , 0.26315789, 0.52631579, 0.78947368, 1.05263158,\n",
    "              1.31578947, 1.57894737, 1.84210526, 2.10526316, 2.36842105,\n",
    "              2.63157895, 2.89473684, 3.15789474, 3.42105263, 3.68421053,\n",
    "              3.94736842, 4.21052632, 4.47368421, 4.73684211, 5.        ])"
   ]
  },
  {
   "cell_type": "code",
   "execution_count": 10,
   "metadata": {},
   "outputs": [],
   "source": [
    "fx = np.array([  0.        , -12.01819092, -18.90968634, -17.68786571,\n",
    "                -8.7529108 ,   4.27524517,  16.06801336,  21.81250213,\n",
    "                19.22059845,   9.48411207,  -3.22273056, -13.48576488,\n",
    "               -16.91096359, -11.95866834,  -0.58630088,  12.56873816,\n",
    "                22.12489421,  24.20292139,  18.04522521,   6.33211092])"
   ]
  },
  {
   "cell_type": "code",
   "execution_count": 11,
   "metadata": {},
   "outputs": [
    {
     "data": {
      "image/png": "[encoded data removed]",
      "text/plain": [
       "<Figure size 432x288 with 1 Axes>"
      ]
     },
     "metadata": {
      "needs_background": "light"
     },
     "output_type": "display_data"
    }
   ],
   "source": [
    "plt.plot(x, fx)\n",
    "plt.show()"
   ]
  },
  {
   "cell_type": "code",
   "execution_count": 12,
   "metadata": {},
   "outputs": [],
   "source": [
    "def error(params):\n",
    "    return np.sum([np.abs(fx[i] - f(x[i], params[0], params[1]))for i in range(len(x))])"
   ]
  },
  {
   "cell_type": "code",
   "execution_count": 13,
   "metadata": {},
   "outputs": [],
   "source": [
    "from scipy.optimize import differential_evolution"
   ]
  },
  {
   "cell_type": "code",
   "execution_count": 14,
   "metadata": {},
   "outputs": [
    {
     "name": "stdout",
     "output_type": "stream",
     "text": [
      "     fun: 1.5125979224706043e-06\n",
      " message: 'Optimization terminated successfully.'\n",
      "    nfev: 2073\n",
      "     nit: 66\n",
      " success: True\n",
      "       x: array([ 3. , -2.5])\n",
      "Параметры a, b - [ 3.  -2.5]\n"
     ]
    }
   ],
   "source": [
    "bounds = [(-20, 20), (-20, 20)]\n",
    "result = differential_evolution(error, bounds, seed = 42)\n",
    "print(result)\n",
    "print('Параметры a, b - {}'.format(result.x))"
   ]
  },
  {
   "cell_type": "markdown",
   "metadata": {},
   "source": [
    "## Задание 4\n",
    "Создайте собственную дискретную случайную величину с 20 значениями. Сгенерируйте 1000 выборок размера 50. Посчитайте среднее для каждой выборки. Постройте гистограмму распределения средних."
   ]
  },
  {
   "cell_type": "code",
   "execution_count": 15,
   "metadata": {},
   "outputs": [
    {
     "name": "stdout",
     "output_type": "stream",
     "text": [
      "[59 87 29 80 71 58 62 87 30 16 80 40 52 37 96 90 19 31 45 95]\n"
     ]
    }
   ],
   "source": [
    "discrete = np.random.randint(10, 100, size = 20)\n",
    "print(discrete)"
   ]
  },
  {
   "cell_type": "code",
   "execution_count": 16,
   "metadata": {},
   "outputs": [
    {
     "data": {
      "image/png": "[encoded data removed]",
      "text/plain": [
       "<Figure size 432x288 with 1 Axes>"
      ]
     },
     "metadata": {
      "needs_background": "light"
     },
     "output_type": "display_data"
    }
   ],
   "source": [
    "means = []\n",
    "for i in range(1000):\n",
    "    rand = np.random.choice(discrete, size=50)\n",
    "    means.append(np.mean(rand))\n",
    "    \n",
    "plt.hist(means)\n",
    "plt.grid()\n",
    "plt.show()"
   ]
  },
  {
   "cell_type": "markdown",
   "metadata": {},
   "source": [
    "## Задание 5\n",
    "Найдите собственные значения и собственные вектора матрицы (на python и на бумаге):"
   ]
  },
  {
   "cell_type": "code",
   "execution_count": 17,
   "metadata": {},
   "outputs": [
    {
     "name": "stdout",
     "output_type": "stream",
     "text": [
      "[[1 4]\n",
      " [1 1]]\n"
     ]
    }
   ],
   "source": [
    "m = np.array([[1, 4],\n",
    "              [1, 1]])\n",
    "print(m)"
   ]
  },
  {
   "cell_type": "code",
   "execution_count": 18,
   "metadata": {},
   "outputs": [
    {
     "name": "stdout",
     "output_type": "stream",
     "text": [
      "Собственные числа: \n",
      "[ 3. -1.]\n",
      "Собственные вектора: \n",
      "[[ 0.89442719 -0.89442719]\n",
      " [ 0.4472136   0.4472136 ]]\n"
     ]
    }
   ],
   "source": [
    "a, U = np.linalg.eig(m)\n",
    "print(f'Собственные числа: \\n{a}')\n",
    "print(f'Собственные вектора: \\n{U}')"
   ]
  },
  {
   "cell_type": "code",
   "execution_count": null,
   "metadata": {},
   "outputs": [],
   "source": []
  }
 ],
 "metadata": {
  "kernelspec": {
   "display_name": "Python 3",
   "language": "python",
   "name": "python3"
  },
  "language_info": {
   "codemirror_mode": {
    "name": "ipython",
    "version": 3
   },
   "file_extension": ".py",
   "mimetype": "text/x-python",
   "name": "python",
   "nbconvert_exporter": "python",
   "pygments_lexer": "ipython3",
   "version": "3.8.5"
  }
 },
 "nbformat": 4,
 "nbformat_minor": 4
}
