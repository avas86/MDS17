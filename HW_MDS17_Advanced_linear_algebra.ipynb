{
 "cells": [
  {
   "cell_type": "markdown",
   "metadata": {},
   "source": [
    "### Домашнее задание \"Продвинутая линейная алгебра\".  \n",
    "**Уровень 0:**\n",
    "`Придумайте матрицы, которые обладают следующими свойствами:`  \n",
    "a) Диагональная, ортогональная, но не единичная(!)  \n",
    "b) Верхнетреугольная, ортогональная  \n",
    "c) Нижнетреугольная, ортогональная  \n",
    "d) Матрица, у которой определитель = 1, и все элементы не равны 0  \n",
    "\n",
    "*P.S. Во всех пунктах ответом должна быть ненулевая матрица размерности не менее 2!*  \n",
    "\n",
    "`Найдите собственные значения и собственные вектора матриц:`\n",
    "\n",
    "m = np.array([[2, 2],\n",
    "              [1, 3]])  "
   ]
  },
  {
   "cell_type": "code",
   "execution_count": 5,
   "metadata": {},
   "outputs": [],
   "source": [
    "import numpy as np"
   ]
  },
  {
   "cell_type": "code",
   "execution_count": 6,
   "metadata": {},
   "outputs": [
    {
     "data": {
      "text/plain": [
       "array([[1, 0, 0],\n",
       "       [0, 2, 0],\n",
       "       [0, 0, 3]])"
      ]
     },
     "execution_count": 6,
     "metadata": {},
     "output_type": "execute_result"
    }
   ],
   "source": [
    "# Диагональная, ортогональная, но не единичная\n",
    "m0 = np.diag([1,2,3])\n",
    "m0"
   ]
  },
  {
   "cell_type": "code",
   "execution_count": 7,
   "metadata": {},
   "outputs": [
    {
     "data": {
      "text/plain": [
       "array([[1, 2, 3],\n",
       "       [0, 5, 6],\n",
       "       [0, 0, 9]])"
      ]
     },
     "execution_count": 7,
     "metadata": {},
     "output_type": "execute_result"
    }
   ],
   "source": [
    "# Верхнетреугольная, ортогональная\n",
    "m1 = np.triu([[1,2,3],[4,5,6],[7,8,9]], 0)\n",
    "m1"
   ]
  },
  {
   "cell_type": "code",
   "execution_count": 8,
   "metadata": {},
   "outputs": [
    {
     "data": {
      "text/plain": [
       "array([[1, 0, 0],\n",
       "       [4, 5, 0],\n",
       "       [7, 8, 9]])"
      ]
     },
     "execution_count": 8,
     "metadata": {},
     "output_type": "execute_result"
    }
   ],
   "source": [
    "# Нижнетреугольная, ортогональная\n",
    "m2 = np.tril([[1,2,3],[4,5,6],[7,8,9]], 0)\n",
    "m2"
   ]
  },
  {
   "cell_type": "code",
   "execution_count": 9,
   "metadata": {},
   "outputs": [],
   "source": [
    "# Матрица, у которой определитель = 1, и все элементы не равны 0\n",
    "m3 = np.array([[2,1,2],\n",
    "               [1,1,1],\n",
    "               [2,1,3]])\n",
    "det_m3 = np.linalg.det(m3)"
   ]
  },
  {
   "cell_type": "code",
   "execution_count": 10,
   "metadata": {},
   "outputs": [
    {
     "name": "stdout",
     "output_type": "stream",
     "text": [
      "1.0\n"
     ]
    }
   ],
   "source": [
    "print(det_m3)"
   ]
  },
  {
   "cell_type": "code",
   "execution_count": 89,
   "metadata": {},
   "outputs": [
    {
     "name": "stdout",
     "output_type": "stream",
     "text": [
      "[[1 2]\n",
      " [2 3]]\n"
     ]
    }
   ],
   "source": [
    "# собственные значения и собственные вектора\n",
    "m4 = np.array([[2, 2], [1, 3]], dtype=float)\n",
    "print(m)"
   ]
  },
  {
   "cell_type": "code",
   "execution_count": 90,
   "metadata": {},
   "outputs": [
    {
     "name": "stdout",
     "output_type": "stream",
     "text": [
      "Собственное значение 1.381966011250105\n",
      "соответствующий ему собственный вектор [-0.85065081  0.52573111]\n",
      "Собственное значение 3.618033988749895\n",
      "соответствующий ему собственный вектор [0.52573111 0.85065081]\n"
     ]
    }
   ],
   "source": [
    "w, v = np.linalg.eigh(m4)\n",
    "for i in range(len(w)):\n",
    "    print(\"Собственное значение \" + str(w[i]))\n",
    "    print(\"соответствующий ему собственный вектор \" + str(v[:,i]))"
   ]
  },
  {
   "cell_type": "markdown",
   "metadata": {},
   "source": [
    "**Уровень 1:**\n",
    "`Найдите спектральное разложение матрицы:`  \n",
    "m = np.array([[1, 2],\n",
    "              [2,3]])  \n",
    "\n",
    "Постройте зависимость качества восстановления рукописных цифр (MNIST) в зависимости от различного количества компонент PCA. В качестве метрики различия предлагаю использовать MSE.\n",
    "\n",
    "*У PCA есть метод transform и inverse_transofrm. Первый - снижает размерность, второй - восстанавливает оригинальные данные с потерей информации.*  \n",
    "`Надо посчитать насколько в среднем точно восстанавливается оригинальная картинка в зависимости от количества компонент в PCA.`"
   ]
  },
  {
   "cell_type": "code",
   "execution_count": 105,
   "metadata": {},
   "outputs": [
    {
     "name": "stdout",
     "output_type": "stream",
     "text": [
      "Собственное значение - [-0.23606798  4.23606798]\n",
      "Собственный вектор - \n",
      "[[-0.85065081  0.52573111]\n",
      " [ 0.52573111  0.85065081]]\n"
     ]
    }
   ],
   "source": [
    "# Найдите спектральное разложение матрицы\n",
    "m = np.array([[1, 2], [2,3]])\n",
    "w, v = np.linalg.eigh(m)\n",
    "print(f'Собственное значение - {np.array(w, dtype=float)}')\n",
    "print(f'Собственный вектор - \\n{v}')"
   ]
  },
  {
   "cell_type": "code",
   "execution_count": 114,
   "metadata": {},
   "outputs": [],
   "source": [
    "from sklearn.decomposition import PCA\n",
    "from sklearn.metrics import mean_squared_error\n",
    "from sklearn.datasets import load_digits\n",
    "import matplotlib.pyplot as plt"
   ]
  },
  {
   "cell_type": "code",
   "execution_count": 115,
   "metadata": {},
   "outputs": [],
   "source": [
    "digits = load_digits()"
   ]
  },
  {
   "cell_type": "code",
   "execution_count": 116,
   "metadata": {},
   "outputs": [
    {
     "data": {
      "image/png": "[encoded data removed]",
      "text/plain": [
       "<Figure size 1080x360 with 10 Axes>"
      ]
     },
     "metadata": {
      "needs_background": "light"
     },
     "output_type": "display_data"
    }
   ],
   "source": [
    "x = digits.data\n",
    "plt.figure(figsize=(15, 5))\n",
    "for i in range(10):\n",
    "    plt.subplot(2, 5, i + 1)\n",
    "    plt.imshow(x[i,:].reshape([8,8]))"
   ]
  },
  {
   "cell_type": "code",
   "execution_count": 134,
   "metadata": {},
   "outputs": [
    {
     "data": {
      "image/png": "[encoded data removed]",
      "text/plain": [
       "<Figure size 1152x432 with 10 Axes>"
      ]
     },
     "metadata": {
      "needs_background": "light"
     },
     "output_type": "display_data"
    }
   ],
   "source": [
    "pca = PCA(n_components=1)\n",
    "x_reduced = pca.fit_transform(x)\n",
    "x1 = pca.inverse_transform(x_reduced)\n",
    "plt.figure(figsize=(16, 6))\n",
    "for i in range(10):\n",
    "    plt.subplot(2, 5, i + 1)\n",
    "    plt.imshow(x1[i,:].reshape([8,8]))"
   ]
  },
  {
   "cell_type": "code",
   "execution_count": 135,
   "metadata": {},
   "outputs": [
    {
     "data": {
      "image/png": "[encoded data removed]",
      "text/plain": [
       "<Figure size 936x432 with 1 Axes>"
      ]
     },
     "metadata": {
      "needs_background": "light"
     },
     "output_type": "display_data"
    }
   ],
   "source": [
    "import pandas as pd\n",
    "def mse(n):\n",
    "    pca = PCA(n_components=n)\n",
    "    x_reduced = pca.fit_transform(x)\n",
    "    x1 = pca.inverse_transform(x_reduced)\n",
    "    MSE = mean_squared_error(x, x1)\n",
    "    return MSE\n",
    "\n",
    "df = pd.DataFrame([mse(n) for n in range(64)])\n",
    "df['quality'] = abs(((df[0]-df[0][0]))/(df[0][63]))/(10**30)\n",
    "plt.figure(figsize=(13,6))\n",
    "plt.plot(df['quality'], color='g', lw=3)\n",
    "plt.title('Зависимость качества восстановления рукописных цифр (MNIST) от различного количества компонент PCA')\n",
    "plt.xlabel('Количество компонент')\n",
    "plt.ylabel('Качество %')\n",
    "plt.show()"
   ]
  },
  {
   "cell_type": "code",
   "execution_count": null,
   "metadata": {},
   "outputs": [],
   "source": []
  }
 ],
 "metadata": {
  "kernelspec": {
   "display_name": "Python 3",
   "language": "python",
   "name": "python3"
  },
  "language_info": {
   "codemirror_mode": {
    "name": "ipython",
    "version": 3
   },
   "file_extension": ".py",
   "mimetype": "text/x-python",
   "name": "python",
   "nbconvert_exporter": "python",
   "pygments_lexer": "ipython3",
   "version": "3.8.5"
  }
 },
 "nbformat": 4,
 "nbformat_minor": 4
}
